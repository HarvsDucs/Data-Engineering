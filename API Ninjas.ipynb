{
 "cells": [
  {
   "cell_type": "code",
   "execution_count": 1,
   "id": "aee5282f",
   "metadata": {},
   "outputs": [
    {
     "name": "stdout",
     "output_type": "stream",
     "text": [
      "[{\"quote\": \"Even when they have nothing, the Irish emit a kind of happiness, a joy.\", \"author\": \"Fiona Shaw\", \"category\": \"happiness\"}]\n"
     ]
    }
   ],
   "source": [
    "import requests\n",
    "category = 'happiness'\n",
    "api_url = 'https://api.api-ninjas.com/v1/quotes?category={}'.format(category)\n",
    "response = requests.get(api_url, headers={'X-Api-Key': 'Your API KEY'})\n",
    "if response.status_code == requests.codes.ok:\n",
    "    print(response.text)\n",
    "else:\n",
    "    print(\"Error:\", response.status_code, response.text)"
   ]
  },
  {
   "cell_type": "code",
   "execution_count": 2,
   "id": "725613e8",
   "metadata": {
    "scrolled": true
   },
   "outputs": [
    {
     "name": "stdout",
     "output_type": "stream",
     "text": [
      "{\"cloud_pct\": 42, \"temp\": 26, \"feels_like\": 26, \"humidity\": 91, \"min_temp\": 26, \"max_temp\": 26, \"wind_speed\": 1.54, \"wind_degrees\": 121, \"sunrise\": 1707343608, \"sunset\": 1707386092}\n"
     ]
    }
   ],
   "source": [
    "import requests\n",
    "city = 'Dipolog City'\n",
    "country = 'Philippines'\n",
    "api_url = 'https://api.api-ninjas.com/v1/weather?city={}'.format(city)\n",
    "response = requests.get(api_url, headers={'X-Api-Key': 'Your API KEY'})\n",
    "if response.status_code == requests.codes.ok:\n",
    "    print(response.text)\n",
    "else:\n",
    "    print(\"Error:\", response.status_code, response.text)"
   ]
  },
  {
   "cell_type": "code",
   "execution_count": 3,
   "id": "5201d2c2",
   "metadata": {
    "scrolled": true
   },
   "outputs": [
    {
     "name": "stdout",
     "output_type": "stream",
     "text": [
      "[{\"name\": \"Swimming laps, freestyle, fast\", \"calories_per_hour\": 726, \"duration_minutes\": 60, \"total_calories\": 726}, {\"name\": \"Swimming laps, freestyle, slow\", \"calories_per_hour\": 508, \"duration_minutes\": 60, \"total_calories\": 508}, {\"name\": \"Swimming backstroke\", \"calories_per_hour\": 508, \"duration_minutes\": 60, \"total_calories\": 508}, {\"name\": \"Swimming breaststroke\", \"calories_per_hour\": 726, \"duration_minutes\": 60, \"total_calories\": 726}, {\"name\": \"Swimming butterfly\", \"calories_per_hour\": 799, \"duration_minutes\": 60, \"total_calories\": 799}, {\"name\": \"Swimming leisurely, not laps\", \"calories_per_hour\": 435, \"duration_minutes\": 60, \"total_calories\": 435}, {\"name\": \"Swimming sidestroke\", \"calories_per_hour\": 581, \"duration_minutes\": 60, \"total_calories\": 581}, {\"name\": \"Swimming synchronized\", \"calories_per_hour\": 581, \"duration_minutes\": 60, \"total_calories\": 581}, {\"name\": \"Swimming, treading water, fast, vigorous\", \"calories_per_hour\": 726, \"duration_minutes\": 60, \"total_calories\": 726}, {\"name\": \"Swimming, treading water, moderate\", \"calories_per_hour\": 290, \"duration_minutes\": 60, \"total_calories\": 290}]\n"
     ]
    }
   ],
   "source": [
    "import requests\n",
    "\n",
    "activity = 'swimming'\n",
    "api_url = 'https://api.api-ninjas.com/v1/caloriesburned?activity={}'.format(activity)\n",
    "response = requests.get(api_url, headers={'X-Api-Key': 'Your API KEY'})\n",
    "if response.status_code == requests.codes.ok:\n",
    "    print(response.text)\n",
    "else:\n",
    "    print(\"Error:\", response.status_code, response.text)"
   ]
  }
 ],
 "metadata": {
  "kernelspec": {
   "display_name": "Python 3 (ipykernel)",
   "language": "python",
   "name": "python3"
  },
  "language_info": {
   "codemirror_mode": {
    "name": "ipython",
    "version": 3
   },
   "file_extension": ".py",
   "mimetype": "text/x-python",
   "name": "python",
   "nbconvert_exporter": "python",
   "pygments_lexer": "ipython3",
   "version": "3.9.13"
  }
 },
 "nbformat": 4,
 "nbformat_minor": 5
}
